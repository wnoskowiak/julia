{
 "cells": [
  {
   "cell_type": "code",
   "execution_count": 1,
   "metadata": {},
   "outputs": [],
   "source": [
    "# Program symuluje \"na żywo\" zachowanie gazu oddziałującym z potencjałem Leonarda-Jonesa w róznych temperaturach. \n",
    "\n",
    "# Można zaobserwować że dla niskich temperatur cząsteczki gazu zbierają się w grupę i nie wykonują zbyt znaczących \n",
    "# ruchów. Odpowiada to przejściu symulowanej sybstancji do stałego stanu skupienia. \n",
    "\n",
    "# Dla nieco wyższych temperatur cząsteczki poruszają się o wiele swobodniej, jednak oddziaływania pomiędzy nimi mają \n",
    "# ciągle znaczący wpływ na ich ruch. Odpowiada to przejściu symulowanej sybstancji do ciekłego  stanu skupienia. \n",
    "\n",
    "# Dla wysokich temperatur oddziaływania pomiędzy cząsteczkami przestają być znaczące, a cząsteczki zaczynają przekazywac \n",
    "# sobie energię głównie poprzez zderzenia. Wtedy symulowana substancja zaochowuje się jak gaz.\n",
    "\n",
    "# Po odpaleniu wszystkich komórekw pliku powinno wyświetlić się okno animacji. Po jej odpaleniu suwakiem znajdującym \n",
    "# się po prawej stronie okna moża regulować temperaturę gazu (W tym przypadku nie jest ona opisana w jednostkach SI). \n",
    "\n",
    "# Przejście do zbyt wysokich temperatur (ustawienie suwaka na maksa do góry) może okazjonalnie prowadzić do zepsucia animacji.\n",
    "# Jest to spowodowane naturą samej wykorzystanej metody symulacji oraz natury użytego potencjału - jeśli cząsteczki znajdą się\n",
    "# za blisko siebe to zadziała na nie w praktyce nieskończona siła, co z kolei prowadzi to powstania w układzi zbyt dużych prękości\n",
    "\n",
    "# Obliczenie wykonywane są dla 16 cząsteczek. Równania ruchu są rozwiązywane przy użuciu metody eulera, a w samym układzie \n",
    "# zostały zaimplementowane warunki brzegowe pozwalające skuteczne symulowanie zachowania substancji"
   ]
  },
  {
   "cell_type": "code",
   "execution_count": 2,
   "metadata": {},
   "outputs": [],
   "source": [
    "# Biblioteka GLMakie potrafi być problematyczna w instalacji. Jeżeli doszłoby do sytuacji w której niebyłby Pan w stanie jej zainstalować\n",
    "# to jestem w stanie nagrać film prezentujący działanie progamu\n",
    "\n",
    "using GLMakie\n",
    "using Random\n",
    "using Observables"
   ]
  },
  {
   "cell_type": "code",
   "execution_count": 3,
   "metadata": {},
   "outputs": [],
   "source": [
    "# Poniższe struktury danych okazały się nie być konieczne do zaimplementowania, ale zaimplementowałem w ich oparciu na tyle dużą część\n",
    "# kodu że postanowiłem ich nie usuwać"
   ]
  },
  {
   "cell_type": "code",
   "execution_count": 4,
   "metadata": {},
   "outputs": [],
   "source": [
    "mutable struct vecVal\n",
    "\tx::Float64\n",
    "\ty::Float64\n",
    "end\n",
    "\n",
    "mutable struct Particle\n",
    "\tpos::vecVal\n",
    "\tspeed::vecVal\n",
    "end"
   ]
  },
  {
   "cell_type": "code",
   "execution_count": 5,
   "metadata": {},
   "outputs": [],
   "source": [
    "Base.broadcastable(f::vecVal) = Ref(f)\n",
    "\n",
    "Base.broadcastable(f::Particle) = Ref(f)\n",
    "\n",
    "function Base.:+(a::vecVal, b::Vector{Float64})\n",
    "\treturn vecVal(a.x + b[0], a.y + b[1])\n",
    "end \n",
    "\n",
    "function Base.:+(a::vecVal, b::vecVal)\n",
    "\treturn vecVal(a.x + b.x, a.y + b.y)\n",
    "end\n",
    "\n",
    "function Base.:-(a::vecVal, b::vecVal)\n",
    "\treturn vecVal(a.x - b.x, a.y - b.y)\n",
    "end\n",
    "\n",
    "function Base.:*(a::vecVal, b::Number)\n",
    "\treturn vecVal(a.x * b, a.y * b)\n",
    "end\n",
    "\n",
    "function Base.:*(b::Number, a::vecVal)\n",
    "\treturn vecVal(a.x * b, a.y * b)\n",
    "end\n",
    "\n",
    "function Base.:/(a::vecVal, b::Number)\n",
    "\treturn vecVal(a.x / b, a.y / b)\n",
    "end\n",
    "\n",
    "function Base.:+(a::Particle, b::Particle)\n",
    "\treturn vecVal(a.pos + b.pos, a.speed + b.speed)\n",
    "end\n",
    "\n",
    "function Base.:-(a::Particle, b::Particle)\n",
    "\treturn vecVal(a.pos - b.pos, a.speed - b.speed)\n",
    "end\n",
    "\n",
    "function Base.:*(a::Particle, b::Number)\n",
    "\treturn vecVal(a.pos, a.speed * b)\n",
    "end\n",
    "\n",
    "function Base.:*(b::Number, a::Particle)\n",
    "\treturn vecVal(a.pos, a.speed * b)\n",
    "end\n",
    "\n",
    "function Base.:/(a::Particle, b::Number)\n",
    "\treturn vecVal(a.pos, a.speed / b)\n",
    "end"
   ]
  },
  {
   "cell_type": "code",
   "execution_count": 6,
   "metadata": {},
   "outputs": [
    {
     "data": {
      "text/plain": [
       "get_average_speed (generic function with 1 method)"
      ]
     },
     "metadata": {},
     "output_type": "display_data"
    }
   ],
   "source": [
    "function get_average_speed(particles::Vector{Particle})\n",
    "    sum = 0.0\n",
    "    elems = 0\n",
    "    for p in particles\n",
    "        sum += sqrt(p.speed.x^2 + p.speed.y^2)\n",
    "        elems +=1\n",
    "    end\n",
    "    return sum/elems\n",
    "end"
   ]
  },
  {
   "cell_type": "code",
   "execution_count": 7,
   "metadata": {},
   "outputs": [
    {
     "data": {
      "text/plain": [
       "closest_image (generic function with 1 method)"
      ]
     },
     "metadata": {},
     "output_type": "display_data"
    }
   ],
   "source": [
    "function closest_image(p1::vecVal, p2::vecVal, boundary::vecVal)\n",
    "\tdx = p2.x - p1.x\n",
    "\tdy = p2.y - p1.y\n",
    "\tdx = (abs(dx) > boundary.x - abs(dx) ? -sign(dx) * (boundary.x - abs(dx)) : dx)\n",
    "\tdy = (abs(dy) > boundary.y - abs(dy) ? -sign(dy) * (boundary.y - abs(dy)) : dy)\n",
    "\n",
    "\treturn [dx, dy]\n",
    "end"
   ]
  },
  {
   "cell_type": "code",
   "execution_count": 8,
   "metadata": {},
   "outputs": [
    {
     "data": {
      "text/plain": [
       "get_force (generic function with 1 method)"
      ]
     },
     "metadata": {},
     "output_type": "display_data"
    }
   ],
   "source": [
    "function get_force(p1::Particle, p2::Particle, boundary::vecVal, sigma::Float64, epsilon::Float64)\n",
    "\tif p1.pos == p2.pos\n",
    "\t\treturn vecVal(0.0, 0.0)\n",
    "\tend\n",
    "\n",
    "\tr_vec = closest_image(p1.pos, p2.pos, boundary)\n",
    "\tr = Base.Math._hypot(r_vec...)\n",
    "\tr_vec = r_vec ./ r\n",
    "\n",
    "\tforce = (24 * epsilon * sigma^6 * (r^6 - 2 * sigma^6)) / r^13\n",
    "\n",
    "\treturn vecVal((r_vec * force)...)\n",
    "end\n"
   ]
  },
  {
   "cell_type": "code",
   "execution_count": 9,
   "metadata": {},
   "outputs": [
    {
     "data": {
      "text/plain": [
       "get_forces_vector (generic function with 1 method)"
      ]
     },
     "metadata": {},
     "output_type": "display_data"
    }
   ],
   "source": [
    "function get_forces_vector(particles::Vector{Particle},  boundary::vecVal, sigma::Float64, epsilon::Float64)\n",
    "\tfunction temp(particle)\n",
    "    \treturn sum(get_force.(particle, particles,boundary, sigma, epsilon))\n",
    "\tend\n",
    "\treturn temp.(particles)\n",
    "end"
   ]
  },
  {
   "cell_type": "code",
   "execution_count": 10,
   "metadata": {},
   "outputs": [
    {
     "data": {
      "text/plain": [
       "bound (generic function with 1 method)"
      ]
     },
     "metadata": {},
     "output_type": "display_data"
    }
   ],
   "source": [
    "function bound(position::vecVal, boundary::vecVal)\n",
    "\treturn vecVal(\n",
    "\t\t((position.x % boundary.x) < 0 ? boundary.x + (position.x % boundary.x) : (position.x % boundary.x)),\n",
    "\t\t((position.y % boundary.y) < 0 ? boundary.y + (position.y % boundary.y) : (position.y % boundary.y)),\n",
    "\t)\n",
    "end"
   ]
  },
  {
   "cell_type": "code",
   "execution_count": 11,
   "metadata": {},
   "outputs": [
    {
     "data": {
      "text/plain": [
       "move_particle (generic function with 1 method)"
      ]
     },
     "metadata": {},
     "output_type": "display_data"
    }
   ],
   "source": [
    "function move_particle(particle::Particle, boundary::vecVal, force::vecVal, sigma::Float64, epsilon::Float64, m::Float64, delta::Float64)\n",
    "\tacc = force ./ m\n",
    "\tparticle.speed = particle.speed + delta .* acc\n",
    "\tparticle.pos = bound(particle.pos + particle.speed .* delta, boundary)\n",
    "\treturn particle\n",
    "end"
   ]
  },
  {
   "cell_type": "code",
   "execution_count": 12,
   "metadata": {},
   "outputs": [
    {
     "data": {
      "text/plain": [
       "move (generic function with 1 method)"
      ]
     },
     "metadata": {},
     "output_type": "display_data"
    }
   ],
   "source": [
    "function move(particles::Vector{Particle}, boundary::vecVal, sigma::Float64, epsilon::Float64, m::Float64, delta::Float64)\n",
    "\tforces = get_forces_vector(particles, boundary, sigma, epsilon)\n",
    "\treturn [move_particle(particle, boundary,force, sigma, epsilon, m, delta) for (particle, force) in zip(particles, forces)]\n",
    "end\n"
   ]
  },
  {
   "cell_type": "code",
   "execution_count": 13,
   "metadata": {},
   "outputs": [
    {
     "data": {
      "text/plain": [
       "get_x_and_y (generic function with 1 method)"
      ]
     },
     "metadata": {},
     "output_type": "display_data"
    }
   ],
   "source": [
    "function get_x_and_y(particles)\n",
    "    return [Point2f(p.pos.x , p.pos.y ) for p in particles]\n",
    "end"
   ]
  },
  {
   "cell_type": "code",
   "execution_count": 14,
   "metadata": {},
   "outputs": [
    {
     "data": {
      "text/plain": [
       "modify_velocity (generic function with 1 method)"
      ]
     },
     "metadata": {},
     "output_type": "display_data"
    }
   ],
   "source": [
    "function modify_velocity(particles::Vector{Particle}, e::Float64)\n",
    "    return [Particle(a.pos, a.speed*e) for a in particles]\n",
    "end"
   ]
  },
  {
   "cell_type": "code",
   "execution_count": 15,
   "metadata": {},
   "outputs": [
    {
     "data": {
      "text/plain": [
       "modify_temperature (generic function with 1 method)"
      ]
     },
     "metadata": {},
     "output_type": "display_data"
    }
   ],
   "source": [
    "function modify_temperature(particles, temp::Float64)\n",
    "    particles[] = modify_velocity(particles[], sqrt(temp/get_average_speed(particles[])))\n",
    "end"
   ]
  },
  {
   "cell_type": "code",
   "execution_count": 16,
   "metadata": {},
   "outputs": [
    {
     "data": {
      "text/plain": [
       "iterate_animation (generic function with 1 method)"
      ]
     },
     "metadata": {},
     "output_type": "display_data"
    }
   ],
   "source": [
    "function iterate_animation(particles, a, boundary ,sigma, epsilon, m, delta)\n",
    "    particles[] = move(particles[], boundary ,sigma, epsilon, m, delta)\n",
    "    a[] = get_x_and_y(particles[])\n",
    "end"
   ]
  },
  {
   "cell_type": "code",
   "execution_count": 17,
   "metadata": {},
   "outputs": [
    {
     "data": {
      "text/plain": [
       "vecVal(5.0, 5.0)"
      ]
     },
     "metadata": {},
     "output_type": "display_data"
    }
   ],
   "source": [
    "sigma = 0.6\n",
    "epsilon = 0.7\n",
    "m=1.\n",
    "delta = 0.001\n",
    "temp = 2.5\n",
    "boundary = vecVal(5,5)"
   ]
  },
  {
   "cell_type": "code",
   "execution_count": 18,
   "metadata": {},
   "outputs": [],
   "source": [
    "rng = MersenneTwister(1234);\n",
    "\n",
    "particles = Observable(vec(reshape([Particle(vecVal(pos...), vecVal((randn!(rng, zeros(2)))...)) for pos in Iterators.product(1:4, 1:4) |> collect],(1,16))))\n",
    "\n",
    "a = Observable(get_x_and_y(particles[]))\n",
    "\n",
    "\n",
    "modify_temperature(particles,temp)\n",
    "\n",
    "\n",
    "fig = Figure(resolution = (850, 800))\n",
    "\n",
    "ax = Axis(fig[1, 1], aspect = 1)\n",
    "\n",
    "sl_y = Slider(fig[1, 2], range = 0:0.01:25, horizontal = false, startvalue = temp)\n",
    "\n",
    "scatter!(ax,a, marker = :circle,\n",
    "color = :purple, markersize = 50*sqrt(2)*sigma/2^6, markerspace = :data)\n",
    "\n",
    "limits!(ax, 0, boundary.x, 0, boundary.y)\n",
    "fig"
   ]
  },
  {
   "cell_type": "code",
   "execution_count": 19,
   "metadata": {},
   "outputs": [
    {
     "data": {
      "text/plain": [
       "ObserverFunction defined at c:\\Users\\wojte\\OneDrive\\Pulpit\\projekt.ipynb:19 operating on Observable{Any}(0)"
      ]
     },
     "metadata": {},
     "output_type": "display_data"
    }
   ],
   "source": [
    "l1 = lift(sl_y.value) do val\n",
    "    modify_temperature(particles,val)\n",
    "end\n",
    "\n",
    "text = Observable(\"start\")\n",
    "\n",
    "run = Button(fig[2,1]; label = text, tellwidth = false)\n",
    "isrunning = Observable(false)\n",
    "on(run.clicks) do clicks \n",
    "    isrunning[] = !isrunning[]; \n",
    "    if !isrunning[]\n",
    "        text[] = \"start\"\n",
    "    else\n",
    "        text[] = \"pause\"\n",
    "    end\n",
    "end\n",
    "on(run.clicks) do clicks\n",
    "\n",
    "    @async while isrunning[]\n",
    "        isopen(fig.scene) || break \n",
    "        iterate_animation(particles, a, boundary ,sigma, epsilon, m, delta)\n",
    "        sleep(0.0001)\n",
    "    end\n",
    "end"
   ]
  }
 ],
 "metadata": {
  "kernelspec": {
   "display_name": "Julia 1.8.5",
   "language": "julia",
   "name": "julia-1.8"
  },
  "language_info": {
   "file_extension": ".jl",
   "mimetype": "application/julia",
   "name": "julia",
   "version": "1.8.5"
  },
  "orig_nbformat": 4,
  "vscode": {
   "interpreter": {
    "hash": "4e663d56c81ba4fb9672d545ec54f8855e969146174cf256e1f1700b76a43bdc"
   }
  }
 },
 "nbformat": 4,
 "nbformat_minor": 2
}
